{
 "cells": [
  {
   "cell_type": "markdown",
   "id": "60b3ed74",
   "metadata": {},
   "source": [
    "# Introduction\n",
    "\n",
    "Hey guys! This is a short notebook to show you the kind of things we expect from you in the mini-project :)\n",
    "\n",
    "I'm taking already mostly-prepared data from [there](https://www.kaggle.com/datasets/bhavikjikadara/student-study-performance), writing a couple of functions in `utils.py` to fetch it and then making some visualisation and a bit of modelling on it.\n",
    "\n",
    "I chose a dataset that records performance for tests in math, reading and writing and characteristics for the students. My aim will be to regress the scores on the students characteristics and see what matters the most for each test. \n",
    "\n",
    "In the intro, we expect you to explain:\n",
    "- What your research question is and why it's relevant\n",
    "- What dataset you picked and why it's likely to shed light on your research question\n",
    "\n",
    "# Imports and parameters\n",
    "\n",
    "These are the imports & parameters for this notebook"
   ]
  },
  {
   "cell_type": "code",
   "execution_count": 1,
   "id": "6f8a5c20",
   "metadata": {},
   "outputs": [],
   "source": [
    "from utils import get_student_data"
   ]
  },
  {
   "cell_type": "code",
   "execution_count": 2,
   "id": "533ac194",
   "metadata": {},
   "outputs": [],
   "source": [
    "dataset_producer_name = \"bhavikjikadara\"\n",
    "dataset_name = \"student-study-performance\"\n",
    "file_name = \"study_performance.csv\""
   ]
  },
  {
   "cell_type": "markdown",
   "id": "83e6bf92",
   "metadata": {},
   "source": [
    "# Data acquisition and processing\n",
    "\n",
    "I'm using the [kaggle API](https://www.kaggle.com/docs/api) to get the data and then just plain load it with pandas.read_csv().\n",
    "\n",
    "In this section, we expect you to explain:\n",
    "- How you merged your data if applicable\n",
    "- What kind of processing you did and why (part of the reason can be \"because this is a small-scale project, if I had more time I'd do X or Y\")"
   ]
  },
  {
   "cell_type": "code",
   "execution_count": 3,
   "id": "9dfd0303",
   "metadata": {},
   "outputs": [
    {
     "name": "stdout",
     "output_type": "stream",
     "text": [
      "Downloading student-study-performance.zip to /home/lucie/depots/sia-project-example\n",
      "\n"
     ]
    },
    {
     "name": "stderr",
     "output_type": "stream",
     "text": [
      "\r",
      "  0%|          | 0.00/8.70k [00:00<?, ?B/s]\r",
      "100%|██████████| 8.70k/8.70k [00:00<00:00, 6.94MB/s]\n"
     ]
    }
   ],
   "source": [
    "student_data = get_student_data(dataset_producer_name, dataset_name, file_name)"
   ]
  },
  {
   "cell_type": "code",
   "execution_count": null,
   "id": "d0d42ee3",
   "metadata": {},
   "outputs": [],
   "source": []
  }
 ],
 "metadata": {
  "kernelspec": {
   "display_name": "Python 3 (ipykernel)",
   "language": "python",
   "name": "python3"
  },
  "language_info": {
   "codemirror_mode": {
    "name": "ipython",
    "version": 3
   },
   "file_extension": ".py",
   "mimetype": "text/x-python",
   "name": "python",
   "nbconvert_exporter": "python",
   "pygments_lexer": "ipython3",
   "version": "3.8.3"
  }
 },
 "nbformat": 4,
 "nbformat_minor": 5
}
